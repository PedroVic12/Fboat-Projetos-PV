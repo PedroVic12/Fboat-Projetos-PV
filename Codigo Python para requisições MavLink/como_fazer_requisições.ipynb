{
 "cells": [
  {
   "attachments": {},
   "cell_type": "markdown",
   "metadata": {},
   "source": [
    "---\n",
    "# Como trabalhar com APIS com o Python\n",
    "---"
   ]
  },
  {
   "attachments": {},
   "cell_type": "markdown",
   "metadata": {},
   "source": [
    "### Como conectar com um Banco de Dados?"
   ]
  },
  {
   "attachments": {},
   "cell_type": "markdown",
   "metadata": {},
   "source": [
    "### Como utilizar a Biblioteca Requests?"
   ]
  },
  {
   "cell_type": "code",
   "execution_count": null,
   "metadata": {},
   "outputs": [],
   "source": [
    "import requests"
   ]
  },
  {
   "attachments": {},
   "cell_type": "markdown",
   "metadata": {},
   "source": [
    "Pegar Informações - GET"
   ]
  },
  {
   "cell_type": "code",
   "execution_count": 3,
   "metadata": {},
   "outputs": [
    {
     "name": "stdout",
     "output_type": "stream",
     "text": [
      "{'message': 'Pedro Victor', 'idade': 24}\n"
     ]
    }
   ],
   "source": [
    "import requests\n",
    "\n",
    "# TODO : Fazer 3 Requisições HTTP GET\n",
    "\n",
    "requisicao = requests.get('http://127.0.0.1:8000/', auth=('user', 'pass'))\n",
    "print(requisicao.json())"
   ]
  },
  {
   "attachments": {},
   "cell_type": "markdown",
   "metadata": {},
   "source": [
    "Criar uma informação - POST"
   ]
  },
  {
   "attachments": {},
   "cell_type": "markdown",
   "metadata": {},
   "source": [
    "Editar informação - PATCH"
   ]
  },
  {
   "attachments": {},
   "cell_type": "markdown",
   "metadata": {},
   "source": [
    "Deletar Informação - DELETE"
   ]
  },
  {
   "attachments": {},
   "cell_type": "markdown",
   "metadata": {},
   "source": [
    "## Como utilizar a Biblioteca FastAPI"
   ]
  },
  {
   "cell_type": "code",
   "execution_count": null,
   "metadata": {},
   "outputs": [],
   "source": [
    "from fastapi import FastAPI\n",
    "import random\n",
    "\n",
    "\n",
    "#! Gerando uma requisição com a fastAPI\n",
    "\n",
    "app = FastAPI()\n",
    "\n",
    "# Cria uma conexão MAVLink em modo leitura (comport)\n",
    "\n",
    "@app.get(\"/\")\n",
    "async def root():\n",
    "    print('Script no terminal,uvicorn main:app --reload  ,executado com sucesso ')\n",
    "    return {\"message\": \"Pedro Victor\", 'idade': 24}\n"
   ]
  }
 ],
 "metadata": {
  "kernelspec": {
   "display_name": "Python 3",
   "language": "python",
   "name": "python3"
  },
  "language_info": {
   "codemirror_mode": {
    "name": "ipython",
    "version": 3
   },
   "file_extension": ".py",
   "mimetype": "text/x-python",
   "name": "python",
   "nbconvert_exporter": "python",
   "pygments_lexer": "ipython3",
   "version": "3.10.9"
  },
  "orig_nbformat": 4,
  "vscode": {
   "interpreter": {
    "hash": "e7370f93d1d0cde622a1f8e1c04877d8463912d04d973331ad4851f04de6915a"
   }
  }
 },
 "nbformat": 4,
 "nbformat_minor": 2
}
